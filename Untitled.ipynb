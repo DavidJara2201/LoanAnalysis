{
 "cells": [
  {
   "cell_type": "code",
   "execution_count": 23,
   "id": "12d19b68-04d8-4d4f-b38f-ba10a4d200d9",
   "metadata": {},
   "outputs": [],
   "source": [
    "import pandas as pd\n",
    "import pickle\n",
    "import sklearn\n",
    "import numpy as np"
   ]
  },
  {
   "cell_type": "code",
   "execution_count": 51,
   "id": "1be23db4-14c3-4574-8dfe-dc205f8459e8",
   "metadata": {},
   "outputs": [],
   "source": [
    "rf_model = pickle.load(open(\"rf_model.pkl\", \"rb\"))"
   ]
  },
  {
   "cell_type": "code",
   "execution_count": 52,
   "id": "6b79435e-22d1-4586-b6c5-eb95158f9837",
   "metadata": {},
   "outputs": [
    {
     "data": {
      "text/plain": [
       "array(['1', '2', '3+', 'Married', 'Self_Employed', 'Applicant_Income',\n",
       "       'Coapplicant_Income', 'Loan_Amount', 'Term', 'Male', 'Graduate',\n",
       "       'Semiurban', 'Urban'], dtype=object)"
      ]
     },
     "execution_count": 52,
     "metadata": {},
     "output_type": "execute_result"
    }
   ],
   "source": [
    "rf_model.feature_names_in_"
   ]
  },
  {
   "cell_type": "code",
   "execution_count": 54,
   "id": "2098f40f-fd1a-478b-b0d1-758c9d937fec",
   "metadata": {},
   "outputs": [
    {
     "name": "stdout",
     "output_type": "stream",
     "text": [
      "[0.26 0.74]\n"
     ]
    }
   ],
   "source": [
    "\n",
    "data = {\"Gender\":\"Male\",\"Married\":\"Yes\",\"Dependents\":\"1\",\"Education\":\"Graduate\",\"Self_Employed\":\"No\",\n",
    "           \"Applicant_Income\":600000, \"Coapplicant_Income\":20000, \"Loan_Amount\":1400000, \"Term\":360, \"Area\":\"Urban\"}\n",
    "    \n",
    "X = pd.DataFrame(data, index = [0])\n",
    "\n",
    "X[\"Self_Employed\"] = np.where(X[\"Self_Employed\"] == \"Yes\", 1, np.where(X[\"Self_Employed\"].isna(), X[\"Self_Employed\"], 0))\n",
    "X[\"Married\"] = np.where(X[\"Married\"] == \"Yes\", 1, np.where(X[\"Married\"].isna(), X[\"Married\"], 0))\n",
    "X[\"Male\"] = np.where(X[\"Gender\"] == \"Male\", 1, np.where(X[\"Gender\"].isna(), X[\"Gender\"], 0))\n",
    "X[\"Graduate\"] = np.where(X[\"Education\"] == \"Graduate\", 1, np.where(X[\"Education\"].isna(), X[\"Education\"], 0))\n",
    "\n",
    "## Dealing with the number of dependents\n",
    "X[[\"1\",\"2\",\"3+\"]] = pd.Series([0,0,0])\n",
    "dep = X[\"Dependents\"][0]\n",
    "X[dep] = 1\n",
    "\n",
    "## Dealing with the area\n",
    "X[[\"Semiurban\",\"Urban\"]] = pd.Series([0,0])\n",
    "ar = X[\"Area\"][0]\n",
    "X[ar] = 1\n",
    "\n",
    "\n",
    "X.drop([\"Gender\", \"Education\",\"Dependents\", \"Area\"], inplace = True, axis = 1) \n",
    "\n",
    "\n",
    "X = X[rf_model.feature_names_in_]\n",
    "\n",
    "out = rf_model.predict(X)\n",
    "print(out[0])\n"
   ]
  },
  {
   "cell_type": "code",
   "execution_count": 21,
   "id": "df2c8f55-24d5-4389-9ef4-5fb8e22675e3",
   "metadata": {},
   "outputs": [],
   "source": [
    "X[[\"1\",\"2\",\"3+\"]] = pd.Series([0,0,0])"
   ]
  },
  {
   "cell_type": "code",
   "execution_count": 36,
   "id": "6de83cc7-3196-4d7a-be7c-d629d0977b52",
   "metadata": {},
   "outputs": [
    {
     "data": {
      "text/plain": [
       "'1'"
      ]
     },
     "execution_count": 36,
     "metadata": {},
     "output_type": "execute_result"
    }
   ],
   "source": [
    "data = {\"Gender\":\"Male\",\"Married\":\"Yes\",\"Dependents\":\"1\",\"Education\":\"Graduate\",\"Self_Employed\":\"No\",\n",
    "           \"Applicant_Income\":600000, \"Coapplicant_Income\":20000, \"Loan_Amount\":1400000, \"Term\":360,\n",
    "           \"Cred_History\":1, \"Area\":\"Urban\"}\n",
    "    \n",
    "X = pd.DataFrame(data, index = [0])\n",
    "\n",
    "X[[\"1\",\"2\",\"3+\"]] = pd.Series([0,0,0])\n",
    "dep = X[\"Dependents\"][0]\n",
    "\n",
    "dep"
   ]
  },
  {
   "cell_type": "code",
   "execution_count": 37,
   "id": "297e517b-450b-4c36-bb7f-0bc16387ce7a",
   "metadata": {},
   "outputs": [
    {
     "data": {
      "text/html": [
       "<div>\n",
       "<style scoped>\n",
       "    .dataframe tbody tr th:only-of-type {\n",
       "        vertical-align: middle;\n",
       "    }\n",
       "\n",
       "    .dataframe tbody tr th {\n",
       "        vertical-align: top;\n",
       "    }\n",
       "\n",
       "    .dataframe thead th {\n",
       "        text-align: right;\n",
       "    }\n",
       "</style>\n",
       "<table border=\"1\" class=\"dataframe\">\n",
       "  <thead>\n",
       "    <tr style=\"text-align: right;\">\n",
       "      <th></th>\n",
       "      <th>Gender</th>\n",
       "      <th>Married</th>\n",
       "      <th>Dependents</th>\n",
       "      <th>Education</th>\n",
       "      <th>Self_Employed</th>\n",
       "      <th>Applicant_Income</th>\n",
       "      <th>Coapplicant_Income</th>\n",
       "      <th>Loan_Amount</th>\n",
       "      <th>Term</th>\n",
       "      <th>Cred_History</th>\n",
       "      <th>Area</th>\n",
       "      <th>1</th>\n",
       "      <th>2</th>\n",
       "      <th>3+</th>\n",
       "    </tr>\n",
       "  </thead>\n",
       "  <tbody>\n",
       "    <tr>\n",
       "      <th>0</th>\n",
       "      <td>Male</td>\n",
       "      <td>Yes</td>\n",
       "      <td>1</td>\n",
       "      <td>Graduate</td>\n",
       "      <td>No</td>\n",
       "      <td>600000</td>\n",
       "      <td>20000</td>\n",
       "      <td>1400000</td>\n",
       "      <td>360</td>\n",
       "      <td>1</td>\n",
       "      <td>Urban</td>\n",
       "      <td>1</td>\n",
       "      <td>0</td>\n",
       "      <td>0</td>\n",
       "    </tr>\n",
       "  </tbody>\n",
       "</table>\n",
       "</div>"
      ],
      "text/plain": [
       "  Gender Married Dependents Education Self_Employed  Applicant_Income  \\\n",
       "0   Male     Yes          1  Graduate            No            600000   \n",
       "\n",
       "   Coapplicant_Income  Loan_Amount  Term  Cred_History   Area  1  2  3+  \n",
       "0               20000      1400000   360             1  Urban  1  0   0  "
      ]
     },
     "execution_count": 37,
     "metadata": {},
     "output_type": "execute_result"
    }
   ],
   "source": [
    "X[dep] = 1\n",
    "\n",
    "X"
   ]
  },
  {
   "cell_type": "code",
   "execution_count": null,
   "id": "98d9c0cf-a54e-4dbb-ace1-0eaa8c893c10",
   "metadata": {},
   "outputs": [],
   "source": []
  }
 ],
 "metadata": {
  "kernelspec": {
   "display_name": "Python 3",
   "language": "python",
   "name": "python3"
  },
  "language_info": {
   "codemirror_mode": {
    "name": "ipython",
    "version": 3
   },
   "file_extension": ".py",
   "mimetype": "text/x-python",
   "name": "python",
   "nbconvert_exporter": "python",
   "pygments_lexer": "ipython3",
   "version": "3.8.8"
  }
 },
 "nbformat": 4,
 "nbformat_minor": 5
}
